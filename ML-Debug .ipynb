{
 "cells": [
  {
   "cell_type": "code",
   "execution_count": null,
   "id": "7909cc39",
   "metadata": {},
   "outputs": [],
   "source": [
    "#1.Why does this train-test split fail?\n",
    "X_train, X_test, y_train, y_test = train_test_split(X, y, test_size=1.2, random_state=42)\n"
   ]
  },
  {
   "cell_type": "code",
   "execution_count": null,
   "id": "911eb1ab",
   "metadata": {},
   "outputs": [],
   "source": [
    "#ans- test_size + train_size cannot exceed 1.\n",
    "X_train, X_test, y_train, y_test = train_test_split(X, y, test_size=0.2, random_state=42)"
   ]
  },
  {
   "cell_type": "code",
   "execution_count": null,
   "id": "12284524",
   "metadata": {},
   "outputs": [],
   "source": [
    "#2.from sklearn.tree import DecisionTreeClassifier\n",
    "\n",
    "X = [[1, 2], [3, 4], [5, 6]]\n",
    "y = [0, 1, 0]\n",
    "\n",
    "model = DecisionTreeClassifier(max_depth=100)\n",
    "model.fit(X, y)\n",
    "print(model.score(X, y))\n"
   ]
  },
  {
   "cell_type": "code",
   "execution_count": 10,
   "id": "81a10f19",
   "metadata": {},
   "outputs": [
    {
     "name": "stdout",
     "output_type": "stream",
     "text": [
      "1.0\n"
     ]
    }
   ],
   "source": [
    "#ans - Issue: Overfitting due to max_depth=100.from sklearn.tree import DecisionTreeClassifier\n",
    "\n",
    "X = [[1, 2], [3, 4], [5, 6]]\n",
    "y = [0, 1, 0]\n",
    "\n",
    "model = DecisionTreeClassifier(max_depth=3)\n",
    "model.fit(X, y)\n",
    "print(model.score(X, y))\n"
   ]
  },
  {
   "cell_type": "code",
   "execution_count": null,
   "id": "7540ae6c",
   "metadata": {},
   "outputs": [],
   "source": [
    "#3.from sklearn.cluster import KMeans\n",
    "import numpy as np\n",
    "\n",
    "X = np.array([[1, 2], [3, 4], [5, 6]])\n",
    "\n",
    "model = KMeans(n_clusters=5)\n",
    "model.fit(X)"
   ]
  },
  {
   "cell_type": "code",
   "execution_count": 12,
   "id": "9ec8d15d",
   "metadata": {},
   "outputs": [
    {
     "data": {
      "text/plain": [
       "KMeans(n_clusters=2)"
      ]
     },
     "execution_count": 12,
     "metadata": {},
     "output_type": "execute_result"
    }
   ],
   "source": [
    "#ans-n_clusters cannot exceed the number of data points.\n",
    "from sklearn.cluster import KMeans\n",
    "import numpy as np\n",
    "\n",
    "X = np.array([[1, 2], [3, 4], [5, 6]])\n",
    "\n",
    "model = KMeans(n_clusters=2)\n",
    "model.fit(X)"
   ]
  },
  {
   "cell_type": "code",
   "execution_count": null,
   "id": "b0bee01e",
   "metadata": {},
   "outputs": [],
   "source": [
    "#4.\n",
    "import padas as pd  \n",
    "\n",
    "df = pd.DataFrame({'A': [1, 2, 3]})\n",
    "print(df)"
   ]
  },
  {
   "cell_type": "code",
   "execution_count": 14,
   "id": "cc4d28a9",
   "metadata": {},
   "outputs": [
    {
     "name": "stdout",
     "output_type": "stream",
     "text": [
      "   A\n",
      "0  1\n",
      "1  2\n",
      "2  3\n"
     ]
    }
   ],
   "source": [
    "#ans-import pandas as pd\n",
    "#4.\n",
    "import pandas as pd  \n",
    "\n",
    "df = pd.DataFrame({'A': [1, 2, 3]})\n",
    "print(df)"
   ]
  },
  {
   "cell_type": "code",
   "execution_count": null,
   "id": "0e69b13d",
   "metadata": {},
   "outputs": [],
   "source": [
    "#5.from sklearn.tree import DecisionTreClassifier  # Typo in 'DecisionTreeClassifier'\n",
    "\n",
    "from sklearn.tree import DecisionTreClassifier  # Typo in 'DecisionTreeClassifier'\n",
    "\n",
    "model = DecisionTreClassifier()\n",
    "\n"
   ]
  },
  {
   "cell_type": "code",
   "execution_count": null,
   "id": "1e17e5d7",
   "metadata": {},
   "outputs": [],
   "source": [
    "#ans -Typo: DecisionTreClassifier → DecisionTreeClassifier\n",
    "from sklearn.tree import DecisionTreeClassifier\n"
   ]
  },
  {
   "cell_type": "code",
   "execution_count": null,
   "id": "2474943d",
   "metadata": {},
   "outputs": [],
   "source": [
    "#6.\n",
    "from sklearn.tree import DecisionTreeClassifier\n",
    "\n",
    "model = DecisionTreeClassifier(depth=3)  \n"
   ]
  },
  {
   "cell_type": "code",
   "execution_count": 15,
   "id": "49b51666",
   "metadata": {},
   "outputs": [],
   "source": [
    "#ans-\n",
    "from sklearn.tree import DecisionTreeClassifier\n",
    "model = DecisionTreeClassifier(max_depth=3)\n",
    "# Incorrect parameter name\n"
   ]
  },
  {
   "cell_type": "code",
   "execution_count": null,
   "id": "a106e354",
   "metadata": {},
   "outputs": [],
   "source": [
    "#7.\n",
    "from sklearn.linear_model import LinearRegression\n",
    "\n",
    "X = [[1], [2], [3], [4]]\n",
    "y = [2, 4, 6, 8]\n",
    "\n",
    "model = LinearRegression()\n",
    "model.fit(X, y)\n",
    "\n",
    "print(model.coef)  # Incorrect attribute name\n"
   ]
  },
  {
   "cell_type": "code",
   "execution_count": 16,
   "id": "fea9e753",
   "metadata": {},
   "outputs": [
    {
     "name": "stdout",
     "output_type": "stream",
     "text": [
      "[2.]\n"
     ]
    }
   ],
   "source": [
    "#ans-(model.coef_)\n",
    "#7.\n",
    "from sklearn.linear_model import LinearRegression\n",
    "\n",
    "X = [[1], [2], [3], [4]]\n",
    "y = [2, 4, 6, 8]\n",
    "\n",
    "model = LinearRegression()\n",
    "model.fit(X, y)\n",
    "\n",
    "print(model.coef_) "
   ]
  },
  {
   "cell_type": "code",
   "execution_count": null,
   "id": "dfc1d457",
   "metadata": {},
   "outputs": [],
   "source": [
    "#8.\n",
    "from sklearn.neighbors import KNeighborsClassifier\n",
    "\n",
    "X_train = [[1, 2], [3, 4], [5, 6]]\n",
    "y_train = [0, 1, 0]\n",
    "\n",
    "model = KNeighborsClassifier(n_neighbors=0)  # Invalid value for n_neighbors\n",
    "model.fit(X_train, y_train)\n"
   ]
  },
  {
   "cell_type": "code",
   "execution_count": null,
   "id": "40adb0b7",
   "metadata": {},
   "outputs": [],
   "source": [
    "#ans-n_neighbors must be 1 or greater.A value of 0 makes no sense mathematically.\n",
    "\n",
    "\n",
    "model = KNeighborsClassifier(n_neighbors=1)  # Minimum valid value is 1\n"
   ]
  },
  {
   "cell_type": "code",
   "execution_count": null,
   "id": "1b14df7d",
   "metadata": {},
   "outputs": [],
   "source": [
    "#9.\n",
    "import pandas as pd\n",
    "\n",
    "df = pd.DataFrame({'A': [10, 20, 30], 'B': [1, 2, 3]})\n",
    "print(df.iloc['A'])  # Incorrect: iloc requires integer indexes\n"
   ]
  },
  {
   "cell_type": "code",
   "execution_count": null,
   "id": "b6df427c",
   "metadata": {},
   "outputs": [],
   "source": [
    "#9.ans-.iloc[] is for integer-based indexing, while .loc[] is for label-based indexing.\n",
    "import pandas as pd\n",
    "\n",
    "df = pd.DataFrame({'A': [10, 20, 30], 'B': [1, 2, 3]})\n",
    "print(df.loc[:, 'A'])  # loc[] should be used for label-based indexing\n"
   ]
  },
  {
   "cell_type": "code",
   "execution_count": null,
   "id": "129b76a5",
   "metadata": {},
   "outputs": [],
   "source": [
    "#10.\n",
    "from sklearn.ensemble import RandomForestClassifier\n",
    "\n",
    "X_train = [[1, 2], [3, 4], [5, 6]]\n",
    "y_train = [0, 1, 0]\n",
    "\n",
    "model = RandomForestClassifier()\n",
    "model.fit(X_train, y_train)\n",
    "\n",
    "probs = model.predict_proba([[2, 3]])[1]  # Incorrect index\n",
    "print(probs)\n"
   ]
  },
  {
   "cell_type": "code",
   "execution_count": 21,
   "id": "2c26ed75",
   "metadata": {},
   "outputs": [
    {
     "name": "stdout",
     "output_type": "stream",
     "text": [
      "[0.74 0.26]\n"
     ]
    }
   ],
   "source": [
    "#ans-predict_proba() returns an array of shape (n_samples, n_classes).\n",
    "\n",
    "Use [0] to access the correct row.\n",
    "from sklearn.ensemble import RandomForestClassifier\n",
    "\n",
    "X_train = [[1, 2], [3, 4], [5, 6]]\n",
    "y_train = [0, 1, 0]\n",
    "\n",
    "model = RandomForestClassifier()\n",
    "model.fit(X_train, y_train)\n",
    "\n",
    "probs = model.predict_proba([[2, 3]])[0]  # The first row corresponds to the input\n",
    "print(probs)\n"
   ]
  },
  {
   "cell_type": "code",
   "execution_count": null,
   "id": "72ce548c",
   "metadata": {},
   "outputs": [],
   "source": []
  },
  {
   "cell_type": "code",
   "execution_count": null,
   "id": "50ab232b",
   "metadata": {},
   "outputs": [],
   "source": []
  }
 ],
 "metadata": {
  "kernelspec": {
   "display_name": "Python 3 (ipykernel)",
   "language": "python",
   "name": "python3"
  },
  "language_info": {
   "codemirror_mode": {
    "name": "ipython",
    "version": 3
   },
   "file_extension": ".py",
   "mimetype": "text/x-python",
   "name": "python",
   "nbconvert_exporter": "python",
   "pygments_lexer": "ipython3",
   "version": "3.7.1"
  }
 },
 "nbformat": 4,
 "nbformat_minor": 5
}
