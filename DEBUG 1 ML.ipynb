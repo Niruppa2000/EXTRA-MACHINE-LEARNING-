{
 "cells": [
  {
   "cell_type": "code",
   "execution_count": 1,
   "id": "775ea2a4",
   "metadata": {},
   "outputs": [
    {
     "name": "stdout",
     "output_type": "stream",
     "text": [
      "   Feature1  Feature2\n",
      "0      10.0       5.5\n",
      "1      20.0       6.7\n",
      "2       NaN       8.9\n"
     ]
    }
   ],
   "source": [
    "import pandas as pd\n",
    "\n",
    "data = {'Feature1': ['10', '20', 'Thirty'],# thirty is not in numeric\n",
    "        'Feature2': [5.5, 6.7, 8.9]}\n",
    "\n",
    "df = pd.DataFrame(data)\n",
    "df['Feature1'] = pd.to_numeric(df['Feature1'], errors='coerce')  # Convert values to NaN\n",
    "\n",
    "print(df)\n"
   ]
  },
  {
   "cell_type": "code",
   "execution_count": 2,
   "id": "0e6553a4",
   "metadata": {},
   "outputs": [
    {
     "name": "stdout",
     "output_type": "stream",
     "text": [
      "     A    B\n",
      "0  1.0  4.0\n",
      "1  2.0  5.0\n",
      "2  1.5  6.0\n"
     ]
    }
   ],
   "source": [
    "#Explanation: Missing values are filled with the column mean.\n",
    "import pandas as pd\n",
    "\n",
    "data = {'A': [1, 2, None],\n",
    "        'B': [4, None, 6]}\n",
    "\n",
    "df = pd.DataFrame(data)\n",
    "df.fillna(df.mean(), inplace=True)  # give inplace=True \n",
    "\n",
    "print(df)\n"
   ]
  },
  {
   "cell_type": "code",
   "execution_count": 3,
   "id": "17e5fffd",
   "metadata": {},
   "outputs": [
    {
     "name": "stdout",
     "output_type": "stream",
     "text": [
      "[8.]\n"
     ]
    }
   ],
   "source": [
    "#ans\n",
    "from sklearn.linear_model import LinearRegression\n",
    "import numpy as np\n",
    "\n",
    "X = np.array([[1], [2], [3], [4], [5]])  # Reshape X into 2D\n",
    "y = np.array([2, 4, 6, 8, 10])\n",
    "\n",
    "model = LinearRegression()\n",
    "model.fit(X, y)\n",
    "\n",
    "print(model.predict([[4]]))# user input\n"
   ]
  },
  {
   "cell_type": "code",
   "execution_count": 4,
   "id": "99c5f7e2",
   "metadata": {},
   "outputs": [
    {
     "name": "stdout",
     "output_type": "stream",
     "text": [
      "[[-1.41421356]\n",
      " [-0.70710678]\n",
      " [ 0.        ]\n",
      " [ 0.70710678]\n",
      " [ 1.41421356]]\n"
     ]
    }
   ],
   "source": [
    "from sklearn.preprocessing import StandardScaler\n",
    "import numpy as np\n",
    "\n",
    "data = np.array([[10], [20], [30], [40], [50]])  # Convert to 2D array\n",
    "\n",
    "scaler = StandardScaler()\n",
    "scaled_data = scaler.fit_transform(data)\n",
    "\n",
    "print(scaled_data)\n"
   ]
  },
  {
   "cell_type": "code",
   "execution_count": 6,
   "id": "541c4346",
   "metadata": {},
   "outputs": [
    {
     "name": "stdout",
     "output_type": "stream",
     "text": [
      "[1]\n"
     ]
    }
   ],
   "source": [
    "#Labels must be 0 and 1 for classification.\n",
    "from sklearn.linear_model import LogisticRegression\n",
    "\n",
    "X = [[1, 2], [3, 4], [5, 6]]\n",
    "y = [1, 0, 1]  # Convert labels to numeric\n",
    "\n",
    "model = LogisticRegression()\n",
    "model.fit(X, y)\n",
    "\n",
    "print(model.predict([[1, 5]]))\n"
   ]
  },
  {
   "cell_type": "code",
   "execution_count": 7,
   "id": "c94003e4",
   "metadata": {},
   "outputs": [
    {
     "name": "stdout",
     "output_type": "stream",
     "text": [
      "[[1. 0. 0.]\n",
      " [0. 1. 0.]\n",
      " [0. 0. 1.]\n",
      " [1. 0. 0.]]\n"
     ]
    }
   ],
   "source": [
    "#ans -Explanation: Convert categorical data into binary columns.\n",
    "import pandas as pd\n",
    "from sklearn.preprocessing import OneHotEncoder\n",
    "\n",
    "df = pd.DataFrame({'Category': ['A', 'B', 'C', 'A']})\n",
    "\n",
    "encoder = OneHotEncoder(sparse=False)\n",
    "encoded = encoder.fit_transform(df[['Category']])  # Convert to 2D\n",
    "\n",
    "print(encoded)"
   ]
  },
  {
   "cell_type": "code",
   "execution_count": 8,
   "id": "58e68273",
   "metadata": {},
   "outputs": [
    {
     "name": "stdout",
     "output_type": "stream",
     "text": [
      "X_train: [[1, 2], [5, 6], [3, 4]]\n",
      "y_train: [0, 0, 1]\n"
     ]
    }
   ],
   "source": [
    "#6.ans-No error, and correctly split data.\n",
    "\n",
    "#Explanation: X and y must have the same number of samples.\n",
    "\n",
    "\n",
    "from sklearn.model_selection import train_test_split\n",
    "\n",
    "X = [[1, 2], [3, 4], [5, 6], [7, 8]]\n",
    "y = [0, 1, 0, 1]  # Now y has the correct length\n",
    "\n",
    "X_train, X_test, y_train, y_test = train_test_split(X, y, test_size=0.2)\n",
    "print(\"X_train:\", X_train)\n",
    "print(\"y_train:\", y_train)\n"
   ]
  },
  {
   "cell_type": "code",
   "execution_count": 9,
   "id": "6add8aed",
   "metadata": {},
   "outputs": [
    {
     "name": "stdout",
     "output_type": "stream",
     "text": [
      "[1]\n"
     ]
    }
   ],
   "source": [
    "#ans A numerical prediction like [1] or [0].\n",
    "#Explanation: Logistic Regression requires numeric labels, so we use LabelEncoder().\n",
    "from sklearn.linear_model import LogisticRegression\n",
    "from sklearn.preprocessing import LabelEncoder\n",
    "\n",
    "X_train = [[1, 2], [3, 4], [5, 6]]\n",
    "y_train = [\"yes\", \"no\", \"yes\"]\n",
    "\n",
    "encoder = LabelEncoder()\n",
    "y_train_encoded = encoder.fit_transform(y_train)  # Convert labels to numeric\n",
    "\n",
    "model = LogisticRegression()\n",
    "model.fit(X_train, y_train_encoded)\n",
    "\n",
    "print(model.predict([[2, 3]]))\n"
   ]
  },
  {
   "cell_type": "code",
   "execution_count": 10,
   "id": "479cb1f2",
   "metadata": {},
   "outputs": [
    {
     "name": "stdout",
     "output_type": "stream",
     "text": [
      "Predicted Output: [20.]\n"
     ]
    }
   ],
   "source": [
    "from sklearn.linear_model import LinearRegression\n",
    "from sklearn.impute import SimpleImputer\n",
    "\n",
    "# Creating a dataset with missing values\n",
    "X_train = np.array([[1, 2], [3, np.nan], [5, 6]])\n",
    "y_train = np.array([10, 20, 30])\n",
    "\n",
    "# Handling missing values by replacing NaN with the column mean\n",
    "imputer = SimpleImputer(strategy=\"mean\")\n",
    "X_train_imputed = imputer.fit_transform(X_train)\n",
    "\n",
    "# Train the model\n",
    "model = LinearRegression()\n",
    "model.fit(X_train_imputed, y_train)\n",
    "\n",
    "# Make a prediction\n",
    "prediction = model.predict([[3, 4]])\n",
    "print(\"Predicted Output:\", prediction)\n"
   ]
  },
  {
   "cell_type": "markdown",
   "id": "d8487bab",
   "metadata": {},
   "source": [
    "from sklearn.preprocessing import LabelEncoder\n",
    "\n",
    "encoder = LabelEncoder()\n",
    "y_train_encoded = encoder.fit_transform(y_train)  # Convert to numbers\n",
    "\n",
    "model.fit(X_train, y_train_encoded)\n",
    "print(model.predict([[2, 3]]))  # Output: [0] or [1]\n"
   ]
  },
  {
   "cell_type": "markdown",
   "id": "587859b5",
   "metadata": {},
   "source": [
    "scaler = StandardScaler()\n",
    "X_train_scaled = scaler.fit_transform(X_train)\n",
    "\n",
    "model.fit(X_train_scaled, y_train)\n",
    "\n",
    "X_test_scaled = scaler.transform([[1, 150]])\n",
    "print(model.predict(X_test_scaled))  # More reliable output\n"
   ]
  },
  {
   "cell_type": "code",
   "execution_count": null,
   "id": "5d356519",
   "metadata": {},
   "outputs": [],
   "source": []
  }
 ],
 "metadata": {
  "kernelspec": {
   "display_name": "Python 3 (ipykernel)",
   "language": "python",
   "name": "python3"
  },
  "language_info": {
   "codemirror_mode": {
    "name": "ipython",
    "version": 3
   },
   "file_extension": ".py",
   "mimetype": "text/x-python",
   "name": "python",
   "nbconvert_exporter": "python",
   "pygments_lexer": "ipython3",
   "version": "3.7.1"
  }
 },
 "nbformat": 4,
 "nbformat_minor": 5
}
